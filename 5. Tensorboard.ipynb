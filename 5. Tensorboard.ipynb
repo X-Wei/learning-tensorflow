{
 "cells": [
  {
   "cell_type": "code",
   "execution_count": 1,
   "metadata": {
    "collapsed": false
   },
   "outputs": [
    {
     "name": "stdout",
     "output_type": "stream",
     "text": [
      "Extracting data/train-images-idx3-ubyte.gz\n",
      "Extracting data/train-labels-idx1-ubyte.gz\n",
      "Extracting data/t10k-images-idx3-ubyte.gz\n",
      "Extracting data/t10k-labels-idx1-ubyte.gz\n"
     ]
    }
   ],
   "source": [
    "import tensorflow as tf\n",
    "import numpy as np\n",
    "from matplotlib import pyplot as plt\n",
    "%matplotlib inline\n",
    "# Import MNIST data\n",
    "from tensorflow.examples.tutorials.mnist import input_data\n",
    "mnist = input_data.read_data_sets('data/', one_hot=True)"
   ]
  },
  {
   "cell_type": "code",
   "execution_count": 2,
   "metadata": {
    "collapsed": true
   },
   "outputs": [],
   "source": [
    "# parameters\n",
    "learning_rate = 0.01\n",
    "training_epochs = 25\n",
    "batch_size = 100\n",
    "display_step = 1\n",
    "logs_path = 'logs/single_layer'"
   ]
  },
  {
   "cell_type": "markdown",
   "metadata": {},
   "source": [
    "Use a single-layer perceptron as example: \n",
    "\n",
    "$pred = softmax(W x+b)$"
   ]
  },
  {
   "cell_type": "code",
   "execution_count": 3,
   "metadata": {
    "collapsed": true
   },
   "outputs": [],
   "source": [
    "# graph input\n",
    "x = tf.placeholder('float', [None, 784], name='data')\n",
    "y = tf.placeholder('float', [None, 10], name='label')\n",
    "\n",
    "# model variables: W, b\n",
    "W = tf.Variable(tf.zeros([784,10]), name='weights')\n",
    "b = tf.Variable(tf.zeros([10]), name='bias')"
   ]
  },
  {
   "cell_type": "code",
   "execution_count": 4,
   "metadata": {
    "collapsed": false
   },
   "outputs": [],
   "source": [
    "# construct model\n",
    "\n",
    "'put the model ops into SCOPEs, making tensorboard more convinent'\n",
    "with tf.name_scope('Model'):\n",
    "    logits = tf.matmul(x,W)+b\n",
    "    pred = tf.nn.softmax( logits )\n",
    "with tf.name_scope('Loss'):\n",
    "    cost = tf.reduce_mean( tf.nn.softmax_cross_entropy_with_logits(logits, y) )\n",
    "#     cost = tf.reduce_mean( -tf.reduce_sum(y*tf.log(pred), reduction_indices=1) ) \n",
    "with tf.name_scope('sgd'):\n",
    "    optimizer = tf.train.GradientDescentOptimizer(learning_rate).minimize(cost)\n",
    "with tf.name_scope('evaluation'):\n",
    "    corr_pred = tf.equal( tf.argmax(pred,1), tf.argmax(y,1) )\n",
    "    acc = tf.reduce_mean(tf.cast(corr_pred, 'float'))\n",
    "\n",
    "init = tf.initialize_all_variables()"
   ]
  },
  {
   "cell_type": "code",
   "execution_count": 5,
   "metadata": {
    "collapsed": true
   },
   "outputs": [],
   "source": [
    "'''create *summary* ops to monitor the cost/accuracy'''\n",
    "\n",
    "loss_summary = tf.scalar_summary(tags='loss', values=cost)\n",
    "accu_summary = tf.scalar_summary('accuracy', acc)\n",
    "\n",
    "# merge all summaries into a single op\n",
    "# merged_summary_op = tf.merge_all_summaries() \n",
    "'''\n",
    "using `tf.merge_all_summaries()` might cause invalid argument error when run for several times, see:\n",
    "http://stackoverflow.com/questions/35413618/tensorflow-placeholder-error-when-using-tf-merge-all-summaries\n",
    "'''\n",
    "\n",
    "merged_summary_op = tf.merge_summary([loss_summary, accu_summary])"
   ]
  },
  {
   "cell_type": "code",
   "execution_count": 6,
   "metadata": {
    "collapsed": false
   },
   "outputs": [
    {
     "name": "stdout",
     "output_type": "stream",
     "text": [
      "epoch    1, cost = 1.182138980\n",
      "epoch    2, cost = 0.664671981\n",
      "epoch    3, cost = 0.552553307\n",
      "epoch    4, cost = 0.498565498\n",
      "epoch    5, cost = 0.465381316\n",
      "epoch    6, cost = 0.442502840\n",
      "epoch    7, cost = 0.425479926\n",
      "epoch    8, cost = 0.412139379\n",
      "epoch    9, cost = 0.401361033\n",
      "epoch   10, cost = 0.392376127\n",
      "epoch   11, cost = 0.384698953\n",
      "epoch   12, cost = 0.378102806\n",
      "epoch   13, cost = 0.372392310\n",
      "epoch   14, cost = 0.367289127\n",
      "epoch   15, cost = 0.362701092\n",
      "epoch   16, cost = 0.358608231\n",
      "epoch   17, cost = 0.354868109\n",
      "epoch   18, cost = 0.351416365\n",
      "epoch   19, cost = 0.348292059\n",
      "epoch   20, cost = 0.345420437\n",
      "epoch   21, cost = 0.342687452\n",
      "epoch   22, cost = 0.340259324\n",
      "epoch   23, cost = 0.337911762\n",
      "epoch   24, cost = 0.335755219\n",
      "epoch   25, cost = 0.333633333\n",
      "finish!\n",
      "test accuracy: 0.913800001\n"
     ]
    }
   ],
   "source": [
    "# launch the graph\n",
    "\n",
    "with tf.Session() as sess:\n",
    "    sess.run(init)\n",
    "    \n",
    "    '===write logs to tensorboard, using a summary writer==='\n",
    "    summary_writer = tf.train.SummaryWriter(logdir=logs_path, graph=tf.get_default_graph())\n",
    "    \n",
    "    for epoch in xrange(1, training_epochs+1):\n",
    "        avg_cost = 0\n",
    "        total_batch = int(mnist.train.num_examples/batch_size)\n",
    "        for i in xrange(total_batch):\n",
    "            xs, ys = mnist.train.next_batch(batch_size)\n",
    "            _, c, summary = sess.run([optimizer, cost, merged_summary_op],\n",
    "                                    feed_dict = {x:xs, y:ys})\n",
    "            '===write summary in each iteration==='\n",
    "            summary_writer.add_summary(summary, epoch*total_batch+i)\n",
    "            avg_cost += c/total_batch\n",
    "        if epoch % display_step == 0:\n",
    "            print 'epoch %4d, cost = %.9f' % (epoch, avg_cost)\n",
    "    print 'finish!'\n",
    "    print 'test accuracy: %.9f' % acc.eval({x:mnist.test.images, y:mnist.test.labels})\n",
    "            "
   ]
  },
  {
   "cell_type": "markdown",
   "metadata": {},
   "source": [
    "Run `tensorboard --logdir=logs/` to open tensorboard, where we can see evolution of the accuracy/loss, and have a visulization of the graph structure. "
   ]
  }
 ],
 "metadata": {
  "anaconda-cloud": {},
  "kernelspec": {
   "display_name": "Python [conda root]",
   "language": "python",
   "name": "conda-root-py"
  },
  "language_info": {
   "codemirror_mode": {
    "name": "ipython",
    "version": 2
   },
   "file_extension": ".py",
   "mimetype": "text/x-python",
   "name": "python",
   "nbconvert_exporter": "python",
   "pygments_lexer": "ipython2",
   "version": "2.7.12"
  }
 },
 "nbformat": 4,
 "nbformat_minor": 0
}
