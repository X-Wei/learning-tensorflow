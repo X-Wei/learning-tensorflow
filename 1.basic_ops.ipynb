{
 "cells": [
  {
   "cell_type": "code",
   "execution_count": 1,
   "metadata": {
    "collapsed": true
   },
   "outputs": [],
   "source": [
    "import tensorflow as tf "
   ]
  },
  {
   "cell_type": "markdown",
   "metadata": {},
   "source": [
    "## constants"
   ]
  },
  {
   "cell_type": "code",
   "execution_count": 2,
   "metadata": {
    "collapsed": false
   },
   "outputs": [
    {
     "name": "stdout",
     "output_type": "stream",
     "text": [
      "Tensor(\"Const:0\", shape=(), dtype=int32) Tensor(\"Const_1:0\", shape=(), dtype=int32)\n"
     ]
    }
   ],
   "source": [
    "a = tf.constant(2)\n",
    "b = tf.constant(3)\n",
    "print a,b"
   ]
  },
  {
   "cell_type": "code",
   "execution_count": 3,
   "metadata": {
    "collapsed": false
   },
   "outputs": [
    {
     "name": "stdout",
     "output_type": "stream",
     "text": [
      "Tensor(\"Const:0\", shape=(), dtype=int32) Tensor(\"Const_1:0\", shape=(), dtype=int32)\n",
      "2 3\n",
      "5\n",
      "6\n"
     ]
    }
   ],
   "source": [
    "with tf.Session() as sess: \n",
    "    print a,b\n",
    "    print sess.run(a), sess.run(b)\n",
    "    print sess.run(a+b)\n",
    "    print sess.run(a*b)"
   ]
  },
  {
   "cell_type": "markdown",
   "metadata": {},
   "source": [
    "## variables（placeholder)"
   ]
  },
  {
   "cell_type": "code",
   "execution_count": 7,
   "metadata": {
    "collapsed": false
   },
   "outputs": [
    {
     "name": "stdout",
     "output_type": "stream",
     "text": [
      "Tensor(\"Placeholder_10:0\", dtype=int16)\n"
     ]
    }
   ],
   "source": [
    "a = tf.placeholder(tf.int16) # can also use \"int16\"\n",
    "b = tf.placeholder(tf.int16)"
   ]
  },
  {
   "cell_type": "code",
   "execution_count": 7,
   "metadata": {
    "collapsed": true
   },
   "outputs": [],
   "source": [
    "_add = tf.add(a,b)\n",
    "_mul = tf.mul(a,b)"
   ]
  },
  {
   "cell_type": "code",
   "execution_count": 12,
   "metadata": {
    "collapsed": false
   },
   "outputs": [
    {
     "name": "stdout",
     "output_type": "stream",
     "text": [
      "5\n",
      "6\n"
     ]
    }
   ],
   "source": [
    "with tf.Session() as sess: \n",
    "#     print sess.run(_add) #InvalidArgumentError: You must feed a value for placeholder tensor 'Placeholder' with dtype int16\n",
    "    print sess.run(_add, feed_dict={a:2, b:3})\n",
    "    print sess.run(_mul, feed_dict={a:2, b:3})"
   ]
  },
  {
   "cell_type": "markdown",
   "metadata": {},
   "source": [
    "## matrix mul"
   ]
  },
  {
   "cell_type": "code",
   "execution_count": 25,
   "metadata": {
    "collapsed": false
   },
   "outputs": [],
   "source": [
    "m1 = tf.constant([[3.0,3]]) # a 1*2 matrix\n",
    "m2 = tf.constant([[2.0],[2]])# 2*1 matrix\n",
    "\n",
    "_prod1 = tf.matmul(m1, m2)\n",
    "_prod2 = tf.matmul(m2, m1)\n",
    "\n",
    "m3 = tf.constant([[1.0, 2, 3 ]]) # if we make mistaks on dimension?\n",
    "# _pord3 = tf.matmul(m3, m2) # ValueError: Dimensions 3 and 2 are not compatible"
   ]
  },
  {
   "cell_type": "code",
   "execution_count": 26,
   "metadata": {
    "collapsed": false
   },
   "outputs": [
    {
     "name": "stdout",
     "output_type": "stream",
     "text": [
      "Tensor(\"Const_13:0\", shape=(1, 2), dtype=float32) Tensor(\"Const_14:0\", shape=(2, 1), dtype=float32)\n",
      "Tensor(\"MatMul_9:0\", shape=(1, 1), dtype=float32) Tensor(\"MatMul_10:0\", shape=(2, 2), dtype=float32)\n",
      "[[ 12.]]\n",
      "[[ 6.  6.]\n",
      " [ 6.  6.]]\n"
     ]
    }
   ],
   "source": [
    "with tf.Session() as sess: \n",
    "    print m1, m2\n",
    "    print _prod1, _prod2\n",
    "    print sess.run(_prod1)\n",
    "    print sess.run(_prod2)"
   ]
  },
  {
   "cell_type": "code",
   "execution_count": null,
   "metadata": {
    "collapsed": true
   },
   "outputs": [],
   "source": []
  }
 ],
 "metadata": {
  "anaconda-cloud": {},
  "kernelspec": {
   "display_name": "Python [conda env:thesis_nb]",
   "language": "python",
   "name": "conda-env-thesis_nb-py"
  },
  "language_info": {
   "codemirror_mode": {
    "name": "ipython",
    "version": 2
   },
   "file_extension": ".py",
   "mimetype": "text/x-python",
   "name": "python",
   "nbconvert_exporter": "python",
   "pygments_lexer": "ipython2",
   "version": "2.7.12"
  }
 },
 "nbformat": 4,
 "nbformat_minor": 0
}
