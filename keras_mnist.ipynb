{
 "cells": [
  {
   "cell_type": "markdown",
   "metadata": {},
   "source": [
    "# 1. simple sequential model: MLP for minist"
   ]
  },
  {
   "cell_type": "code",
   "execution_count": 25,
   "metadata": {
    "collapsed": false
   },
   "outputs": [
    {
     "name": "stdout",
     "output_type": "stream",
     "text": [
      "Extracting data/train-images-idx3-ubyte.gz\n",
      "Extracting data/train-labels-idx1-ubyte.gz\n",
      "Extracting data/t10k-images-idx3-ubyte.gz\n",
      "Extracting data/t10k-labels-idx1-ubyte.gz\n"
     ]
    }
   ],
   "source": [
    "import tensorflow as tf\n",
    "import numpy as np\n",
    "from matplotlib import pyplot as plt\n",
    "%matplotlib inline\n",
    "# Import MINST data\n",
    "from tensorflow.examples.tutorials.mnist import input_data\n",
    "mnist = input_data.read_data_sets('data/', one_hot=True)"
   ]
  },
  {
   "cell_type": "code",
   "execution_count": 26,
   "metadata": {
    "collapsed": false
   },
   "outputs": [
    {
     "name": "stdout",
     "output_type": "stream",
     "text": [
      "<type 'numpy.ndarray'>\n",
      "(55000, 784)\n"
     ]
    }
   ],
   "source": [
    "# Xtr, Ytr = mnist.train.next_batch(5000)\n",
    "# Xte, Yte = mnist.test.next_batch(200)\n",
    "Xtr, Ytr = mnist.train.images, mnist.train.labels\n",
    "Xte, Yte = mnist.test.images, mnist.test.labels\n",
    "print type(Xtr)\n",
    "print Xtr.shape"
   ]
  },
  {
   "cell_type": "markdown",
   "metadata": {},
   "source": [
    "## sklearn-style interface"
   ]
  },
  {
   "cell_type": "code",
   "execution_count": 5,
   "metadata": {
    "collapsed": false
   },
   "outputs": [],
   "source": [
    "from keras.models import Sequential\n",
    "model = Sequential() # a linear stack of layers\n",
    "from keras.layers import Dense, Activation\n",
    "# Stacking layers is as easy as .add()\n",
    "model.add(Dense(output_dim=256, input_dim=784, batch_input_shape=[None, 784]))\n",
    "model.add(Activation(\"relu\"))\n",
    "model.add(Dense(output_dim=256, input_dim=256))\n",
    "model.add(Activation(\"relu\"))\n",
    "model.add(Dense(output_dim=10))\n",
    "model.add(Activation(\"softmax\"))\n",
    "# Once your model looks good, configure its learning process with .compile()\n",
    "model.compile(loss='categorical_crossentropy', optimizer='adam', metrics=['accuracy'])"
   ]
  },
  {
   "cell_type": "code",
   "execution_count": 6,
   "metadata": {
    "collapsed": false
   },
   "outputs": [
    {
     "name": "stdout",
     "output_type": "stream",
     "text": [
      "Epoch 1/5\n",
      "55000/55000 [==============================] - 3s - loss: 0.2548 - acc: 0.9267     \n",
      "Epoch 2/5\n",
      "55000/55000 [==============================] - 3s - loss: 0.0966 - acc: 0.9702     \n",
      "Epoch 3/5\n",
      "55000/55000 [==============================] - 3s - loss: 0.0628 - acc: 0.9799     \n",
      "Epoch 4/5\n",
      "55000/55000 [==============================] - 3s - loss: 0.0427 - acc: 0.9869     \n",
      "Epoch 5/5\n",
      "55000/55000 [==============================] - 3s - loss: 0.0340 - acc: 0.9892     \n",
      " 9700/10000 [============================>.] - ETA: 0s[0.071162071719591047, 0.97690000772476193]\n"
     ]
    }
   ],
   "source": [
    "model.fit(Xtr, Ytr, nb_epoch=5, batch_size=100)\n",
    "print model.evaluate(Xte, Yte, batch_size=100)"
   ]
  },
  {
   "cell_type": "markdown",
   "metadata": {},
   "source": [
    "## training in batches"
   ]
  },
  {
   "cell_type": "code",
   "execution_count": 7,
   "metadata": {
    "collapsed": false,
    "scrolled": true
   },
   "outputs": [
    {
     "name": "stdout",
     "output_type": "stream",
     "text": [
      "epoch 1, cost=0.034733955, acc=0.988036372\n",
      "epoch 2, cost=0.021587116, acc=0.993200006\n",
      "epoch 3, cost=0.018467821, acc=0.993981824\n",
      "epoch 4, cost=0.015665767, acc=0.994654550\n",
      "epoch 5, cost=0.011712108, acc=0.996127276\n",
      "finish!\n",
      " 9500/10000 [===========================>..] - ETA: 0s[0.088480864168632253, 0.97980000913143162]\n"
     ]
    }
   ],
   "source": [
    "training_epochs = 5\n",
    "batch_size = 100\n",
    "display_step = 1\n",
    "\n",
    "model.reset_states() # doesn't work?\n",
    "model.compile(loss='categorical_crossentropy', optimizer='adam', metrics=['accuracy'])\n",
    "\n",
    "for epoch in xrange(1, training_epochs+1):\n",
    "    total_batch = int(mnist.train.num_examples / batch_size)\n",
    "    avg_cost, avg_acc = 0, 0\n",
    "    for i in xrange(total_batch):\n",
    "        xs, ys = mnist.train.next_batch(batch_size)\n",
    "        c,a = model.train_on_batch(xs, ys)\n",
    "        avg_cost += c/total_batch\n",
    "        avg_acc += a/total_batch\n",
    "    if epoch % display_step == 0: \n",
    "        print 'epoch %d, cost=%.9f, acc=%.9f' %(epoch, avg_cost, avg_acc)\n",
    "print 'finish!'\n",
    "print model.evaluate(Xte, Yte, batch_size=100)"
   ]
  },
  {
   "cell_type": "markdown",
   "metadata": {},
   "source": [
    "# CNN on minist"
   ]
  },
  {
   "cell_type": "code",
   "execution_count": 9,
   "metadata": {
    "collapsed": true
   },
   "outputs": [],
   "source": [
    "from keras.datasets import mnist\n",
    "from keras.models import Sequential\n",
    "from keras.layers import Dense, Dropout, Activation, Flatten\n",
    "from keras.layers import Convolution2D, MaxPooling2D\n",
    "from keras.utils import np_utils\n",
    "from keras import backend as K"
   ]
  },
  {
   "cell_type": "code",
   "execution_count": 10,
   "metadata": {
    "collapsed": true
   },
   "outputs": [],
   "source": [
    "# parameters\n",
    "batch_sz = 128\n",
    "n_classes = 10\n",
    "n_epoch = 12\n",
    "img_rows, img_cols = 28, 28\n",
    "n_filters = 32\n",
    "pool_sz = (2,2)\n",
    "kernel_sz = (3,3)"
   ]
  },
  {
   "cell_type": "code",
   "execution_count": 23,
   "metadata": {
    "collapsed": false,
    "scrolled": false
   },
   "outputs": [],
   "source": [
    "(Xtrain, Ytrain), (Xtest, Ytest) = mnist.load_data()"
   ]
  },
  {
   "cell_type": "code",
   "execution_count": 15,
   "metadata": {
    "collapsed": false,
    "scrolled": true
   },
   "outputs": [
    {
     "name": "stdout",
     "output_type": "stream",
     "text": [
      "<type 'numpy.ndarray'>\n",
      "(60000, 28, 28)\n"
     ]
    }
   ],
   "source": [
    "print type(Xtrain)\n",
    "print Xtrain.shape"
   ]
  },
  {
   "cell_type": "markdown",
   "metadata": {},
   "source": [
    "Data propressing\n",
    "\n",
    "**note**: \n",
    "The image ordering is NOT the same for tf and th! "
   ]
  },
  {
   "cell_type": "code",
   "execution_count": 13,
   "metadata": {
    "collapsed": false
   },
   "outputs": [
    {
     "name": "stdout",
     "output_type": "stream",
     "text": [
      "tf\n"
     ]
    }
   ],
   "source": [
    "print K.image_dim_ordering()"
   ]
  },
  {
   "cell_type": "code",
   "execution_count": 28,
   "metadata": {
    "collapsed": false
   },
   "outputs": [
    {
     "name": "stdout",
     "output_type": "stream",
     "text": [
      "(60000, 28, 28, 1) (10000, 28, 28, 1)\n"
     ]
    }
   ],
   "source": [
    "Xtrain = Xtrain.reshape( (-1, img_rows, img_cols, 1) )\n",
    "Xtest = Xtest.reshape( (-1, img_rows, img_cols, 1) )\n",
    "input_shape = (img_rows, img_cols, 1)\n",
    "print Xtrain.shape, Xtest.shape"
   ]
  },
  {
   "cell_type": "code",
   "execution_count": 32,
   "metadata": {
    "collapsed": false
   },
   "outputs": [],
   "source": [
    "# the keras mnist dataset is int, turn to float\n",
    "Xtrain = Xtrain.astype('float')\n",
    "Xtest = Xtest.astype('float')"
   ]
  },
  {
   "cell_type": "code",
   "execution_count": 33,
   "metadata": {
    "collapsed": true
   },
   "outputs": [],
   "source": [
    "# normalize data\n",
    "Xtrain /= 255.0\n",
    "Xtest /=255.0"
   ]
  },
  {
   "cell_type": "code",
   "execution_count": 35,
   "metadata": {
    "collapsed": false
   },
   "outputs": [
    {
     "name": "stdout",
     "output_type": "stream",
     "text": [
      "[5 0 4 ..., 5 6 8]\n"
     ]
    }
   ],
   "source": [
    "print Ytrain"
   ]
  },
  {
   "cell_type": "code",
   "execution_count": 36,
   "metadata": {
    "collapsed": true
   },
   "outputs": [],
   "source": [
    "# do one-hot encoding\n",
    "Ytrain = np_utils.to_categorical(Ytrain, n_classes)\n",
    "Ytest = np_utils.to_categorical(Ytest, n_classes)"
   ]
  },
  {
   "cell_type": "code",
   "execution_count": 37,
   "metadata": {
    "collapsed": true
   },
   "outputs": [],
   "source": [
    "model = Sequential()\n",
    "model.add( Convolution2D(n_filters, kernel_sz[0], kernel_sz[1],\n",
    "                        border_mode='valid',\n",
    "                        input_shape=input_shape) )\n",
    "model.add(Activation('relu'))\n",
    "\n",
    "model.add(MaxPooling2D(pool_size=pool_sz))\n",
    "model.add(Dropout(0.25))\n",
    "\n",
    "model.add(Flatten())\n",
    "model.add(Dense(output_dim=128))\n",
    "model.add(Activation('relu'))\n",
    "model.add(Dropout(0.5))\n",
    "\n",
    "model.add(Dense(n_classes))\n",
    "model.add(Activation('softmax'))"
   ]
  },
  {
   "cell_type": "code",
   "execution_count": 38,
   "metadata": {
    "collapsed": true
   },
   "outputs": [],
   "source": [
    "model.compile(loss='categorical_crossentropy',\n",
    "             optimizer='adadelta',\n",
    "             metrics=['accuracy'])"
   ]
  },
  {
   "cell_type": "code",
   "execution_count": 40,
   "metadata": {
    "collapsed": false
   },
   "outputs": [
    {
     "name": "stdout",
     "output_type": "stream",
     "text": [
      "Train on 60000 samples, validate on 10000 samples\n",
      "Epoch 1/12\n",
      "60000/60000 [==============================] - 25s - loss: 0.4458 - acc: 0.8693 - val_loss: 0.1502 - val_acc: 0.9553\n",
      "Epoch 2/12\n",
      "60000/60000 [==============================] - 24s - loss: 0.1995 - acc: 0.9412 - val_loss: 0.1003 - val_acc: 0.9720\n",
      "Epoch 3/12\n",
      "60000/60000 [==============================] - 25s - loss: 0.1530 - acc: 0.9556 - val_loss: 0.0849 - val_acc: 0.9741\n",
      "Epoch 4/12\n",
      "60000/60000 [==============================] - 24s - loss: 0.1288 - acc: 0.9629 - val_loss: 0.0692 - val_acc: 0.9782\n",
      "Epoch 5/12\n",
      "60000/60000 [==============================] - 23s - loss: 0.1125 - acc: 0.9672 - val_loss: 0.0638 - val_acc: 0.9801\n",
      "Epoch 6/12\n",
      "60000/60000 [==============================] - 24s - loss: 0.1014 - acc: 0.9697 - val_loss: 0.0570 - val_acc: 0.9816\n",
      "Epoch 7/12\n",
      "60000/60000 [==============================] - 24s - loss: 0.0948 - acc: 0.9720 - val_loss: 0.0535 - val_acc: 0.9825\n",
      "Epoch 8/12\n",
      "60000/60000 [==============================] - 25s - loss: 0.0864 - acc: 0.9748 - val_loss: 0.0514 - val_acc: 0.9833\n",
      "Epoch 9/12\n",
      "60000/60000 [==============================] - 24s - loss: 0.0805 - acc: 0.9754 - val_loss: 0.0511 - val_acc: 0.9827\n",
      "Epoch 10/12\n",
      "60000/60000 [==============================] - 25s - loss: 0.0779 - acc: 0.9764 - val_loss: 0.0464 - val_acc: 0.9842\n",
      "Epoch 11/12\n",
      "60000/60000 [==============================] - 25s - loss: 0.0727 - acc: 0.9782 - val_loss: 0.0453 - val_acc: 0.9839\n",
      "Epoch 12/12\n",
      "60000/60000 [==============================] - 25s - loss: 0.0709 - acc: 0.9787 - val_loss: 0.0449 - val_acc: 0.9842\n"
     ]
    },
    {
     "data": {
      "text/plain": [
       "<keras.callbacks.History at 0x7fc018d070d0>"
      ]
     },
     "execution_count": 40,
     "metadata": {},
     "output_type": "execute_result"
    }
   ],
   "source": [
    "model.fit(Xtrain, Ytrain,\n",
    "         batch_size=batch_sz,\n",
    "         nb_epoch=n_epoch,\n",
    "         verbose=1,\n",
    "         validation_data=(Xtest, Ytest) )"
   ]
  },
  {
   "cell_type": "code",
   "execution_count": 41,
   "metadata": {
    "collapsed": false
   },
   "outputs": [
    {
     "name": "stdout",
     "output_type": "stream",
     "text": [
      "0.0448687467696 0.9842\n"
     ]
    }
   ],
   "source": [
    "c,a = model.evaluate(Xtest, Ytest, verbose=0)\n",
    "print c,a"
   ]
  }
 ],
 "metadata": {
  "kernelspec": {
   "display_name": "Python [Root]",
   "language": "python",
   "name": "Python [Root]"
  },
  "language_info": {
   "codemirror_mode": {
    "name": "ipython",
    "version": 2
   },
   "file_extension": ".py",
   "mimetype": "text/x-python",
   "name": "python",
   "nbconvert_exporter": "python",
   "pygments_lexer": "ipython2",
   "version": "2.7.12"
  }
 },
 "nbformat": 4,
 "nbformat_minor": 0
}
